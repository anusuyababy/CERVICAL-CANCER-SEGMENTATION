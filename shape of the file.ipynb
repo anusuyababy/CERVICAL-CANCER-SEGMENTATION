{
 "cells": [
  {
   "cell_type": "code",
   "execution_count": 1,
   "id": "1542c149",
   "metadata": {},
   "outputs": [],
   "source": [
    "import numpy as np\n",
    "import pandas as pd\n",
    "import seaborn as sns\n",
    "import warnings\n",
    "warnings.filterwarnings(\"ignore\")\n",
    "import nibabel as nib\n",
    "%matplotlib inline\n",
    "import nibabel as nb\n",
    "import matplotlib.pyplot as plt\n",
    "from PIL import Image\n",
    "from numpy import asarray\n",
    "from matplotlib import image\n",
    "from matplotlib import pyplot as plt\n",
    "from scipy import misc,ndimage\n",
    "import numpy as np\n",
    "import statistics\n",
    "import tensorflow as tf\n",
    "import tensorflow.keras as keras\n",
    "import os, shutil\n",
    "import random\n",
    "import pandas as  pd\n",
    "from scipy import ndimage\n",
    "import nibabel as nb\n",
    "import nibabel as nib\n",
    "import glob\n",
    "import zipfile\n",
    "from glob import glob\n",
    "import cv2\n",
    "import matplotlib.pyplot as plt\n",
    "%matplotlib inline\n",
    "from sklearn.model_selection import train_test_split\n",
    "from nilearn.image import resample_img"
   ]
  },
  {
   "cell_type": "code",
   "execution_count": 2,
   "id": "6e6d1421",
   "metadata": {},
   "outputs": [],
   "source": [
    "data_path = 'D:/new filefrom chinese data/nii files'"
   ]
  },
  {
   "cell_type": "code",
   "execution_count": 3,
   "id": "bd784aeb",
   "metadata": {},
   "outputs": [
    {
     "data": {
      "text/plain": [
       "'D:/new filefrom chinese data/nii files\\\\IMAGES'"
      ]
     },
     "execution_count": 3,
     "metadata": {},
     "output_type": "execute_result"
    }
   ],
   "source": [
    "#train_data_path = os.path.join(data_path, 'IMAGES')\n",
    "#train_data_path"
   ]
  },
  {
   "cell_type": "code",
   "execution_count": 4,
   "id": "1e31cafb",
   "metadata": {},
   "outputs": [
    {
     "data": {
      "text/plain": [
       "['patient_001_0.nii.gz',\n",
       " 'patient_002_0.nii.gz',\n",
       " 'patient_004_0.nii.gz',\n",
       " 'patient_005_0.nii.gz',\n",
       " 'patient_006_0.nii.gz',\n",
       " 'patient_007_0.nii.gz',\n",
       " 'patient_009_0.nii.gz',\n",
       " 'patient_010_0.nii.gz',\n",
       " 'patient_011_0.nii.gz',\n",
       " 'patient_013_0.nii.gz',\n",
       " 'patient_014_0.nii.gz',\n",
       " 'patient_015_0.nii.gz',\n",
       " 'patient_016_0.nii.gz',\n",
       " 'patient_017_0.nii.gz',\n",
       " 'patient_018_0.nii.gz',\n",
       " 'patient_018_1.nii.gz',\n",
       " 'patient_019_0.nii.gz',\n",
       " 'patient_020_0.nii.gz',\n",
       " 'patient_021_0.nii.gz',\n",
       " 'patient_022_0.nii.gz',\n",
       " 'patient_023_0.nii.gz',\n",
       " 'patient_024_0.nii.gz',\n",
       " 'patient_025_0.nii.gz',\n",
       " 'patient_026_0.nii.gz',\n",
       " 'patient_027_0.nii.gz',\n",
       " 'patient_029_0.nii.gz',\n",
       " 'patient_030_0.nii.gz',\n",
       " 'patient_033_0.nii.gz',\n",
       " 'patient_034_0.nii.gz',\n",
       " 'patient_035_0.nii.gz',\n",
       " 'patient_037_0.nii.gz',\n",
       " 'patient_038_0.nii.gz',\n",
       " 'patient_042_0.nii.gz',\n",
       " 'patient_043_0.nii.gz']"
      ]
     },
     "execution_count": 4,
     "metadata": {},
     "output_type": "execute_result"
    }
   ],
   "source": [
    "images = os.listdir(data_path)\n",
    "images"
   ]
  },
  {
   "cell_type": "code",
   "execution_count": 5,
   "id": "9c57e5e7",
   "metadata": {},
   "outputs": [
    {
     "name": "stdout",
     "output_type": "stream",
     "text": [
      "(512, 512, 33)\n",
      "(512, 512, 33)\n",
      "(512, 33, 512)\n",
      "(512, 512, 33)\n",
      "(576, 576, 32)\n",
      "(576, 576, 33)\n",
      "(576, 576, 33)\n",
      "(560, 560, 33)\n",
      "(704, 704, 33)\n",
      "(512, 512, 33)\n",
      "(576, 576, 32)\n",
      "(640, 33, 640)\n",
      "(512, 512, 33)\n",
      "(576, 576, 30)\n",
      "(576, 576, 33)\n",
      "(576, 576, 32)\n",
      "(640, 640, 33)\n",
      "(512, 512, 33)\n",
      "(560, 560, 33)\n",
      "(640, 640, 33)\n",
      "(576, 576, 33)\n",
      "(576, 576, 33)\n",
      "(576, 576, 33)\n",
      "(512, 512, 30)\n",
      "(512, 32, 512)\n",
      "(512, 512, 33)\n",
      "(512, 512, 30)\n",
      "(512, 512, 33)\n",
      "(512, 512, 32)\n",
      "(512, 512, 33)\n",
      "(512, 512, 33)\n",
      "(512, 512, 33)\n",
      "(512, 512, 33)\n",
      "(512, 512, 33)\n"
     ]
    }
   ],
   "source": [
    "for i in images:\n",
    "    img = nib.load(os.path.join(data_path, i))\n",
    "    print(img.shape)\n",
    "    #if img.shape == (512, 512, 30):\n",
    "        #print(img.shape)"
   ]
  },
  {
   "cell_type": "code",
   "execution_count": 6,
   "id": "bb5ae678",
   "metadata": {},
   "outputs": [],
   "source": [
    "data_path1 = 'D:/new filefrom chinese data/nii files masks'"
   ]
  },
  {
   "cell_type": "code",
   "execution_count": 7,
   "id": "d4d07344",
   "metadata": {},
   "outputs": [],
   "source": [
    "#train_data_path1 = os.path.join(data_path, 'MASKS')\n",
    "#train_data_path1"
   ]
  },
  {
   "cell_type": "code",
   "execution_count": 8,
   "id": "c926ef21",
   "metadata": {},
   "outputs": [
    {
     "data": {
      "text/plain": [
       "['patient_001_0.nii.gz',\n",
       " 'patient_002_0.nii.gz',\n",
       " 'patient_004_0.nii.gz',\n",
       " 'patient_005_0.nii.gz',\n",
       " 'patient_006_0.nii.gz',\n",
       " 'patient_007_0.nii.gz',\n",
       " 'patient_009_0.nii.gz',\n",
       " 'patient_010_0.nii.gz',\n",
       " 'patient_011_0.nii.gz',\n",
       " 'patient_013_0.nii.gz',\n",
       " 'patient_014_0.nii.gz',\n",
       " 'patient_015_0.nii.gz',\n",
       " 'patient_016_0.nii.gz',\n",
       " 'patient_017_0.nii.gz',\n",
       " 'patient_018_0.nii.gz',\n",
       " 'patient_018_1.nii.gz',\n",
       " 'patient_019_0.nii.gz',\n",
       " 'patient_020_0.nii.gz',\n",
       " 'patient_021_0.nii.gz',\n",
       " 'patient_022_0.nii.gz',\n",
       " 'patient_023_0.nii.gz',\n",
       " 'patient_024_0.nii.gz',\n",
       " 'patient_025_0.nii.gz',\n",
       " 'patient_026_0.nii.gz',\n",
       " 'patient_027_0.nii.gz',\n",
       " 'patient_029_0.nii.gz',\n",
       " 'patient_030_0.nii.gz',\n",
       " 'patient_033_0.nii.gz',\n",
       " 'patient_034_0.nii.gz',\n",
       " 'patient_035_0.nii.gz',\n",
       " 'patient_037_0.nii.gz',\n",
       " 'patient_038_0.nii.gz',\n",
       " 'patient_042_0.nii.gz',\n",
       " 'patient_043_0.nii.gz']"
      ]
     },
     "execution_count": 8,
     "metadata": {},
     "output_type": "execute_result"
    }
   ],
   "source": [
    "masks = os.listdir(data_path1)\n",
    "masks"
   ]
  },
  {
   "cell_type": "code",
   "execution_count": 9,
   "id": "fc31a674",
   "metadata": {},
   "outputs": [
    {
     "name": "stdout",
     "output_type": "stream",
     "text": [
      "(512, 512, 33)\n",
      "(512, 512, 33)\n",
      "(512, 33, 512)\n",
      "(512, 512, 33)\n",
      "(576, 576, 32)\n",
      "(576, 576, 33)\n",
      "(576, 576, 33)\n",
      "(560, 560, 33)\n",
      "(704, 704, 33)\n",
      "(512, 512, 33)\n",
      "(576, 576, 32)\n",
      "(640, 33, 640)\n",
      "(512, 512, 33)\n",
      "(576, 576, 30)\n",
      "(576, 576, 33)\n",
      "(576, 576, 32)\n",
      "(640, 640, 33)\n",
      "(512, 512, 33)\n",
      "(560, 560, 33)\n",
      "(640, 640, 33)\n",
      "(576, 576, 33)\n",
      "(576, 576, 33)\n",
      "(576, 576, 33)\n",
      "(512, 512, 30)\n",
      "(512, 32, 512)\n",
      "(512, 512, 33)\n",
      "(512, 512, 30)\n",
      "(512, 512, 33)\n",
      "(512, 512, 32)\n",
      "(512, 512, 33)\n",
      "(512, 512, 33)\n",
      "(512, 512, 33)\n",
      "(512, 512, 33)\n",
      "(512, 512, 33)\n"
     ]
    }
   ],
   "source": [
    "for i in masks:\n",
    "    img = nib.load(os.path.join(data_path1, i))\n",
    "    \n",
    "    print(img.shape)"
   ]
  },
  {
   "cell_type": "code",
   "execution_count": 37,
   "id": "0c946e9e",
   "metadata": {},
   "outputs": [],
   "source": [
    "import skimage.transform as skTrans"
   ]
  },
  {
   "cell_type": "code",
   "execution_count": null,
   "id": "60313c16",
   "metadata": {},
   "outputs": [],
   "source": []
  }
 ],
 "metadata": {
  "kernelspec": {
   "display_name": "Python 3 (ipykernel)",
   "language": "python",
   "name": "python3"
  },
  "language_info": {
   "codemirror_mode": {
    "name": "ipython",
    "version": 3
   },
   "file_extension": ".py",
   "mimetype": "text/x-python",
   "name": "python",
   "nbconvert_exporter": "python",
   "pygments_lexer": "ipython3",
   "version": "3.9.7"
  }
 },
 "nbformat": 4,
 "nbformat_minor": 5
}
