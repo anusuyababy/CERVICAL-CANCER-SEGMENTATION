{
 "cells": [
  {
   "cell_type": "markdown",
   "id": "85a815ff",
   "metadata": {},
   "source": [
    "## Creata a group of 64 slices"
   ]
  },
  {
   "cell_type": "markdown",
   "id": "cb1d0d45",
   "metadata": {},
   "source": [
    "### input file"
   ]
  },
  {
   "cell_type": "code",
   "execution_count": 1,
   "id": "196f22ac",
   "metadata": {},
   "outputs": [],
   "source": [
    "import dicom2nifti\n",
    "import os\n",
    "import os\n",
    "from glob import glob\n",
    "import shutil\n",
    "import nibabel as nib\n",
    "import numpy as np"
   ]
  },
  {
   "cell_type": "code",
   "execution_count": 2,
   "id": "ece600bc",
   "metadata": {},
   "outputs": [],
   "source": [
    "in_path = 'D:/adding more data/dicom files/images'\n",
    "out_path = 'D:/adding more data/32 slices' \n",
    "#D:\\new filefrom chinese data\\dicom files"
   ]
  },
  {
   "cell_type": "code",
   "execution_count": 3,
   "id": "b14b1ec8",
   "metadata": {},
   "outputs": [],
   "source": [
    "for patient in glob(in_path + '/*'):\n",
    "    patient_name = os.path.basename(os.path.normpath(patient))\n",
    "     # Here we need to calculate the number of folders which mean into how many groups we will divide the number of slices\n",
    "    number_folders = int(len(glob(patient + '/*')) / 32)\n",
    "    for i in range(number_folders):\n",
    "        output_path = os.path.join(out_path, patient_name + '_' + str(i))\n",
    "        #print(output_path)\n",
    "        os.mkdir(output_path)\n",
    "        # Move the slices into a specific folder so that you will save memory in your desk\n",
    "        for i, file in enumerate(glob(patient + '/*')):\n",
    "            if i == 32 + 1:\n",
    "                break\n",
    "            shutil.move(file, output_path)"
   ]
  },
  {
   "cell_type": "markdown",
   "id": "26d6de03",
   "metadata": {},
   "source": [
    "### Mask file"
   ]
  },
  {
   "cell_type": "code",
   "execution_count": 4,
   "id": "30f6f53f",
   "metadata": {},
   "outputs": [],
   "source": [
    "in_path = 'D:/adding more data/dicom files masks'\n",
    "out_path = 'D:/adding more data/32 slices masks' "
   ]
  },
  {
   "cell_type": "code",
   "execution_count": 5,
   "id": "fefe2e94",
   "metadata": {},
   "outputs": [],
   "source": [
    "for patient in glob(in_path + '/*'):\n",
    "    patient_name = os.path.basename(os.path.normpath(patient))\n",
    "     # Here we need to calculate the number of folders which mean into how many groups we will divide the number of slices\n",
    "    number_folders = int(len(glob(patient + '/*')) / 32)\n",
    "    for i in range(number_folders):\n",
    "        output_path = os.path.join(out_path, patient_name + '_' + str(i))\n",
    "        #print(output_path)\n",
    "        os.mkdir(output_path)\n",
    "        # Move the slices into a specific folder so that you will save memory in your desk\n",
    "        for i, file in enumerate(glob(patient + '/*')):\n",
    "            if i == 32 + 1:\n",
    "                break\n",
    "            shutil.move(file, output_path)"
   ]
  },
  {
   "cell_type": "markdown",
   "id": "b03e0d99",
   "metadata": {},
   "source": [
    "### Convert dicom to nifti files"
   ]
  },
  {
   "cell_type": "code",
   "execution_count": 110,
   "id": "0a0032e3",
   "metadata": {},
   "outputs": [],
   "source": [
    "in_path_images = 'D:/adding more data/32 slices/patient_065_1'\n",
    "#in_path_labels = 'D:/new filefrom chinese data/32 slices masks/patient_001_0'"
   ]
  },
  {
   "cell_type": "code",
   "execution_count": 111,
   "id": "c301862d",
   "metadata": {},
   "outputs": [],
   "source": [
    "out_path_images = 'D:/adding more data/nii files'\n",
    "#out_path_labels = 'D:/new filefrom chinese data/nii files masks'"
   ]
  },
  {
   "cell_type": "code",
   "execution_count": 112,
   "id": "29d43be2",
   "metadata": {},
   "outputs": [],
   "source": [
    "list_images = glob(in_path_images)\n",
    "#list_labels = glob(in_path_labels)"
   ]
  },
  {
   "cell_type": "code",
   "execution_count": 113,
   "id": "8f4ac8b9",
   "metadata": {},
   "outputs": [],
   "source": [
    "for patient in list_images:\n",
    "    patient_name = os.path.basename(os.path.normpath(patient))\n",
    "    dicom2nifti.dicom_series_to_nifti(patient, os.path.join(out_path_images, patient_name + '.nii.gz'))"
   ]
  },
  {
   "cell_type": "markdown",
   "id": "6b19b591",
   "metadata": {},
   "source": [
    "### Convert dicom to nifti files masks"
   ]
  },
  {
   "cell_type": "code",
   "execution_count": 218,
   "id": "4b664cd0",
   "metadata": {},
   "outputs": [],
   "source": [
    "#in_path_images = 'D:/new filefrom chinese data/32 slices/patient_043_0'\n",
    "in_path_labels = 'D:/adding more data/32 slices masks/patient_065_1'"
   ]
  },
  {
   "cell_type": "code",
   "execution_count": 219,
   "id": "c9091087",
   "metadata": {},
   "outputs": [],
   "source": [
    "out_path_labels = 'D:/adding more data/nii files masks'"
   ]
  },
  {
   "cell_type": "code",
   "execution_count": 220,
   "id": "b360cb7d",
   "metadata": {},
   "outputs": [],
   "source": [
    "list_labels = glob(in_path_labels)"
   ]
  },
  {
   "cell_type": "code",
   "execution_count": 221,
   "id": "2d8a3ee2",
   "metadata": {},
   "outputs": [],
   "source": [
    "for patient in list_labels:\n",
    "    patient_name = os.path.basename(os.path.normpath(patient))\n",
    "    dicom2nifti.dicom_series_to_nifti(patient, os.path.join(out_path_labels, patient_name + '.nii.gz'))"
   ]
  },
  {
   "cell_type": "code",
   "execution_count": null,
   "id": "4dfaf92e",
   "metadata": {},
   "outputs": [],
   "source": []
  },
  {
   "cell_type": "code",
   "execution_count": null,
   "id": "c323352f",
   "metadata": {},
   "outputs": [],
   "source": [
    "#28 file  error\n",
    "# i have deleted 28th files in 32 slice mask folder"
   ]
  },
  {
   "cell_type": "markdown",
   "id": "70efd497",
   "metadata": {},
   "source": [
    "#### Finding empty"
   ]
  },
  {
   "cell_type": "code",
   "execution_count": 222,
   "id": "741dda0a",
   "metadata": {},
   "outputs": [],
   "source": [
    "input_nifti_file_path = 'D:/adding more data/nii files masks/*'"
   ]
  },
  {
   "cell_type": "code",
   "execution_count": 223,
   "id": "632df5f8",
   "metadata": {},
   "outputs": [],
   "source": [
    "list_labels = glob(input_nifti_file_path)"
   ]
  },
  {
   "cell_type": "code",
   "execution_count": 224,
   "id": "196fcdec",
   "metadata": {},
   "outputs": [
    {
     "name": "stdout",
     "output_type": "stream",
     "text": [
      "D:/adding more data/nii files masks\\patient_065_1.nii.gz\n"
     ]
    }
   ],
   "source": [
    "for patient in list_labels:\n",
    "    img = nib.load(patient)\n",
    "    fdata = img.get_fdata()\n",
    "    np_unique = np.unique(fdata)\n",
    "    if len(np_unique) == 1:\n",
    "        print(patient)"
   ]
  },
  {
   "cell_type": "code",
   "execution_count": null,
   "id": "5b166c3e",
   "metadata": {},
   "outputs": [],
   "source": [
    "# so deleting patient_065"
   ]
  }
 ],
 "metadata": {
  "kernelspec": {
   "display_name": "Python 3 (ipykernel)",
   "language": "python",
   "name": "python3"
  },
  "language_info": {
   "codemirror_mode": {
    "name": "ipython",
    "version": 3
   },
   "file_extension": ".py",
   "mimetype": "text/x-python",
   "name": "python",
   "nbconvert_exporter": "python",
   "pygments_lexer": "ipython3",
   "version": "3.9.7"
  }
 },
 "nbformat": 4,
 "nbformat_minor": 5
}
